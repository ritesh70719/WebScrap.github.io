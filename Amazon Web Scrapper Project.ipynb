{
 "cells": [
  {
   "cell_type": "code",
   "execution_count": 1,
   "id": "b84136d7",
   "metadata": {},
   "outputs": [],
   "source": [
    "#import libraries\n",
    "\n",
    "from bs4 import BeautifulSoup\n",
    "import requests\n",
    "import time\n",
    "import datetime\n",
    "\n",
    "import smtplib"
   ]
  },
  {
   "cell_type": "code",
   "execution_count": 23,
   "id": "a7b5a6ca",
   "metadata": {},
   "outputs": [
    {
     "name": "stdout",
     "output_type": "stream",
     "text": [
      "\n",
      "                   OJASS Men's Jacket\n",
      "                  \n",
      "\n",
      "                      ₹743.00\n",
      "                     \n"
     ]
    }
   ],
   "source": [
    "#Connect to Website\n",
    "\n",
    "URL = 'https://www.amazon.in/Ojass-Full-Sleeve-Solid-Jacket/dp/B077GDLBXQ/ref=sr_1_1?keywords=ojass+jacket+for+men%E0%A4%82&qid=1644290045&sprefix=ojas%2Caps%2C718&sr=8-1'\n",
    "\n",
    "headers = {\"User-Agent\": \"Mozilla/5.0 (Windows NT 6.3; WOW64) AppleWebKit/537.36 (KHTML, like Gecko) Chrome/98.0.4758.81 Safari/537.36\", \"Accept-Encoding\":\"gzip, deflate\", \"Accept\":\"text/html,application/xhtml+xml,application/xml;q=0.9,*/*;q=0.8\", \"DNT\":\"1\",\"Connection\":\"close\", \"Upgrade-Insecure-Requests\":\"1\"}\n",
    "\n",
    "page = requests.get(URL, headers=headers)\n",
    "\n",
    "soup1 = BeautifulSoup(page.content, \"html.parser\")\n",
    "\n",
    "soup2 = BeautifulSoup(soup1.prettify(), \"html.parser\")\n",
    "\n",
    "title = soup2.find(id='productTitle').get_text()\n",
    "\n",
    "price = soup2.find('span', class_=\"a-offscreen\").text\n",
    "\n",
    "    \n",
    "print(title)\n",
    "print(price)"
   ]
  },
  {
   "cell_type": "code",
   "execution_count": 5,
   "id": "83c9a17c",
   "metadata": {},
   "outputs": [
    {
     "name": "stdout",
     "output_type": "stream",
     "text": [
      "OJASS Men's Jacket\n",
      "743.00\n"
     ]
    }
   ],
   "source": [
    "price = price.strip()[1:]\n",
    "title = title.strip()\n",
    "\n",
    "print(title)\n",
    "print(price)"
   ]
  },
  {
   "cell_type": "code",
   "execution_count": 6,
   "id": "dcf7d195",
   "metadata": {},
   "outputs": [
    {
     "name": "stdout",
     "output_type": "stream",
     "text": [
      "2022-02-08\n"
     ]
    }
   ],
   "source": [
    "import datetime\n",
    "\n",
    "today = datetime.date.today()\n",
    "\n",
    "print(today)"
   ]
  },
  {
   "cell_type": "code",
   "execution_count": 7,
   "id": "d3e32479",
   "metadata": {},
   "outputs": [],
   "source": [
    "import csv\n",
    "\n",
    "header = ['title', 'price', 'date']\n",
    "data = [title,price,today]\n",
    "\n",
    "with open('AmazonDatasetWebscrap.csv', 'w', newline='', encoding='UTF8') as f:\n",
    "    writer = csv.writer(f)\n",
    "    writer.writerow(header)\n",
    "    writer.writerow(data)"
   ]
  },
  {
   "cell_type": "code",
   "execution_count": 37,
   "id": "3e629335",
   "metadata": {},
   "outputs": [
    {
     "name": "stdout",
     "output_type": "stream",
     "text": [
      "                                                title  \\\n",
      "0                                  OJASS Men's Jacket   \n",
      "1                                  OJASS Men's Jacket   \n",
      "2   \\n                   Funny Got Data MIS Data S...   \n",
      "3   \\n                   Funny Got Data MIS Data S...   \n",
      "4   \\n                   Funny Got Data MIS Data S...   \n",
      "5   \\n                   Funny Got Data MIS Data S...   \n",
      "6   \\n                   Funny Got Data MIS Data S...   \n",
      "7   \\n                   Funny Got Data MIS Data S...   \n",
      "8                                  OJASS Men's Jacket   \n",
      "9   \\n                   Funny Got Data MIS Data S...   \n",
      "10                                 OJASS Men's Jacket   \n",
      "11  \\n                   Funny Got Data MIS Data S...   \n",
      "12  \\n                   OJASS Men's Jacket\\n     ...   \n",
      "\n",
      "                                                price        date  \n",
      "0                                              743.00  2022-02-08  \n",
      "1                                              743.00  2022-02-08  \n",
      "2   \\n                  Page 1 of 1\\n             ...  2022-02-08  \n",
      "3   \\n                  Page 1 of 1\\n             ...  2022-02-08  \n",
      "4   \\n                  Page 1 of 1\\n             ...  2022-02-08  \n",
      "5   \\n                  Page 1 of 1\\n             ...  2022-02-08  \n",
      "6      \\n                Page 1 of 1\\n                 2022-02-08  \n",
      "7      \\n                Page 1 of 1\\n                 2022-02-08  \n",
      "8                                              743.00  2022-02-08  \n",
      "9      \\n                Page 1 of 1\\n                 2022-02-08  \n",
      "10                                             743.00  2022-02-08  \n",
      "11     \\n                Page 1 of 1\\n                 2022-02-08  \n",
      "12  \\n                      ₹743.00\\n             ...  2022-02-08  \n"
     ]
    }
   ],
   "source": [
    "import pandas as pd\n",
    "\n",
    "df = pd.read_csv(r'C:\\Users\\Ritesh\\AmazonDatasetWebscrap.csv')\n",
    "\n",
    "print(df)"
   ]
  },
  {
   "cell_type": "code",
   "execution_count": 32,
   "id": "4b29082f",
   "metadata": {},
   "outputs": [],
   "source": [
    "#appending data to csv\n",
    "with open('AmazonDatasetWebscrap.csv', 'a+', newline='', encoding='UTF8') as f:\n",
    "    writer = csv.writer(f)\n",
    "    writer.writerow(data)"
   ]
  },
  {
   "cell_type": "code",
   "execution_count": 43,
   "id": "2cd86bd6",
   "metadata": {},
   "outputs": [],
   "source": [
    "def check_price():\n",
    "    URL = 'https://www.amazon.in/Ojass-Full-Sleeve-Solid-Jacket/dp/B077GDLBXQ/ref=sr_1_1?keywords=ojass+jacket+for+men%E0%A4%82&qid=1644290045&sprefix=ojas%2Caps%2C718&sr=8-1'\n",
    "\n",
    "    headers = {\"User-Agent\": \"Mozilla/5.0 (Windows NT 6.3; WOW64) AppleWebKit/537.36 (KHTML, like Gecko) Chrome/98.0.4758.81 Safari/537.36\", \"Accept-Encoding\":\"gzip, deflate\", \"Accept\":\"text/html,application/xhtml+xml,application/xml;q=0.9,*/*;q=0.8\", \"DNT\":\"1\",\"Connection\":\"close\", \"Upgrade-Insecure-Requests\":\"1\"}\n",
    "\n",
    "    page = requests.get(URL, headers=headers)\n",
    "\n",
    "    soup1 = BeautifulSoup(page.content, \"html.parser\")\n",
    "\n",
    "    soup2 = BeautifulSoup(soup1.prettify(), \"html.parser\")\n",
    "\n",
    "    title = soup2.find(id='productTitle').get_text()\n",
    "    \n",
    "    price = soup2.find('span', class_=\"a-offscreen\").text\n",
    "    \n",
    "    price = price.strip()[1:]\n",
    "    title = title.strip()\n",
    "    \n",
    "        \n",
    "    import datetime\n",
    "\n",
    "    today = datetime.date.today()\n",
    "\n",
    "    import csv\n",
    "\n",
    "    header = ['title', 'price', 'date']\n",
    "    data = [title,price,today]\n",
    "    \n",
    "    with open('AmazonDatasetWebscrap.csv', 'a+', newline='', encoding='UTF8') as f:\n",
    "        writer = csv.writer(f)\n",
    "        writer.writerow(data)\n",
    "        \n",
    "    if(price<\"700\"):\n",
    "        send_mail()\n"
   ]
  },
  {
   "cell_type": "code",
   "execution_count": null,
   "id": "1f33cb11",
   "metadata": {},
   "outputs": [],
   "source": [
    "while(True):\n",
    "    check_price()\n",
    "    time.sleep(86400)"
   ]
  },
  {
   "cell_type": "code",
   "execution_count": null,
   "id": "ea41a3fa",
   "metadata": {},
   "outputs": [],
   "source": [
    "import pandas as pd\n",
    "\n",
    "df = pd.read_csv(r'C:\\Users\\Ritesh\\AmazonDatasetWebscrap.csv')\n",
    "\n",
    "print(df)"
   ]
  },
  {
   "cell_type": "code",
   "execution_count": 19,
   "id": "795493f7",
   "metadata": {},
   "outputs": [],
   "source": [
    "# sending yourself an email when a price hits below a certain level\n",
    "\n",
    "def send_mail():\n",
    "    server = smtplib.SMTP_SSL('smtp.gmail.com',465)\n",
    "    server.ehlo()\n",
    "    #server.starttls()\n",
    "    server.ehlo()\n",
    "    server.login('svra911@gmail.com','LyutensDelhi')\n",
    "    \n",
    "    subject = \"The jacket you want is below 700! Now is your chance to buy!\"\n",
    "    body = \"Ritesh, This is the moment we have been waiting for. Now is your chance to pick up the shirt of your dreams. Don't mess it up! Link here: https://www.amazon.in/Ojass-Full-Sleeve-Solid-Jacket/dp/B077GDLBXQ/ref=sr_1_1?keywords=ojass+jacket+for+men%E0%A4%82&qid=1644290045&sprefix=ojas%2Caps%2C718&sr=8-1\"\n",
    "   \n",
    "    msg = f\"Subject: {subject}\\n\\n{body}\"\n",
    "    \n",
    "    server.sendmail(\n",
    "        'svra911@gmail.com',\n",
    "        msg\n",
    "     \n",
    "    )"
   ]
  }
 ],
 "metadata": {
  "kernelspec": {
   "display_name": "Python 3 (ipykernel)",
   "language": "python",
   "name": "python3"
  },
  "language_info": {
   "codemirror_mode": {
    "name": "ipython",
    "version": 3
   },
   "file_extension": ".py",
   "mimetype": "text/x-python",
   "name": "python",
   "nbconvert_exporter": "python",
   "pygments_lexer": "ipython3",
   "version": "3.8.7"
  }
 },
 "nbformat": 4,
 "nbformat_minor": 5
}
